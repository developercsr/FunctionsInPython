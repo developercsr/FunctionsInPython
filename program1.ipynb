{
 "cells": [
  {
   "cell_type": "code",
   "execution_count": 1,
   "id": "31c0908a-934d-4fde-be12-2d4c7d7c5845",
   "metadata": {},
   "outputs": [
    {
     "name": "stdin",
     "output_type": "stream",
     "text": [
      "Enter input :  sumanth\n"
     ]
    }
   ],
   "source": [
    "#input() function \n",
    "x=input(\"Enter input : \")#Takes everything as String"
   ]
  },
  {
   "cell_type": "code",
   "execution_count": null,
   "id": "bd59e21e-3199-4f79-b853-88f26872c175",
   "metadata": {},
   "outputs": [],
   "source": [
    "y=int(input(\"Enter a number : \"))\n",
    "z=float(input(\"Enter a floating number : \"))\n",
    "a=complex(input(\"Enter Complex Number : \"))\n",
    "print(x,y,z,a)"
   ]
  },
  {
   "cell_type": "code",
   "execution_count": 19,
   "id": "c7d0e8b1-916a-4e60-8487-be4b0ea8b0bb",
   "metadata": {},
   "outputs": [
    {
     "ename": "SyntaxError",
     "evalue": "invalid syntax (2909305656.py, line 1)",
     "output_type": "error",
     "traceback": [
      "\u001b[1;36m  Cell \u001b[1;32mIn[19], line 1\u001b[1;36m\u001b[0m\n\u001b[1;33m    from program2.1 import *\u001b[0m\n\u001b[1;37m                 ^\u001b[0m\n\u001b[1;31mSyntaxError\u001b[0m\u001b[1;31m:\u001b[0m invalid syntax\n"
     ]
    }
   ],
   "source": [
    "\n",
    "from program2.1 import *\n"
   ]
  },
  {
   "cell_type": "code",
   "execution_count": 8,
   "id": "27b689bd-170d-49af-b748-90bfe7731490",
   "metadata": {},
   "outputs": [],
   "source": [
    "import os"
   ]
  },
  {
   "cell_type": "code",
   "execution_count": 9,
   "id": "5e365d38-9840-4b9a-9b33-344942b84b0e",
   "metadata": {},
   "outputs": [
    {
     "data": {
      "text/plain": [
       "'C:\\\\Users\\\\suman\\\\Desktop\\\\AnIntroductionToPython\\\\FunctionsInPython'"
      ]
     },
     "execution_count": 9,
     "metadata": {},
     "output_type": "execute_result"
    }
   ],
   "source": [
    "os.getcwd()"
   ]
  },
  {
   "cell_type": "code",
   "execution_count": null,
   "id": "043ca4e8-4cfe-4320-a71e-99c9a62d31d2",
   "metadata": {},
   "outputs": [],
   "source": []
  }
 ],
 "metadata": {
  "kernelspec": {
   "display_name": "Python 3 (ipykernel)",
   "language": "python",
   "name": "python3"
  },
  "language_info": {
   "codemirror_mode": {
    "name": "ipython",
    "version": 3
   },
   "file_extension": ".py",
   "mimetype": "text/x-python",
   "name": "python",
   "nbconvert_exporter": "python",
   "pygments_lexer": "ipython3",
   "version": "3.11.5"
  }
 },
 "nbformat": 4,
 "nbformat_minor": 5
}
