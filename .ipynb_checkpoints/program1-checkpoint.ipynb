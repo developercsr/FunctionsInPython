{
 "cells": [
  {
   "cell_type": "code",
   "execution_count": 1,
   "id": "31c0908a-934d-4fde-be12-2d4c7d7c5845",
   "metadata": {},
   "outputs": [
    {
     "name": "stdin",
     "output_type": "stream",
     "text": [
      "Enter input :  sumanth\n"
     ]
    }
   ],
   "source": [
    "#input() function \n",
    "x=input(\"Enter input : \")#Takes everything as String"
   ]
  },
  {
   "cell_type": "code",
   "execution_count": null,
   "id": "bd59e21e-3199-4f79-b853-88f26872c175",
   "metadata": {},
   "outputs": [],
   "source": [
    "y=int(input(\"Enter a number : \"))\n",
    "z=float(input(\"Enter a floating number : \"))\n",
    "a=complex(input(\"Enter Complex Number : \"))\n",
    "print(x,y,z,a)"
   ]
  }
 ],
 "metadata": {
  "kernelspec": {
   "display_name": "Python 3 (ipykernel)",
   "language": "python",
   "name": "python3"
  },
  "language_info": {
   "codemirror_mode": {
    "name": "ipython",
    "version": 3
   },
   "file_extension": ".py",
   "mimetype": "text/x-python",
   "name": "python",
   "nbconvert_exporter": "python",
   "pygments_lexer": "ipython3",
   "version": "3.11.5"
  }
 },
 "nbformat": 4,
 "nbformat_minor": 5
}
